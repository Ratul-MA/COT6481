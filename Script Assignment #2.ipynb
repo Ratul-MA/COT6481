{
 "cells": [
  {
   "cell_type": "code",
   "execution_count": 1,
   "id": "696fe4b5-9ba3-414a-9ac1-6ef6817a6193",
   "metadata": {},
   "outputs": [
    {
     "name": "stdout",
     "output_type": "stream",
     "text": [
      "Tokens received after swap: 199.0\n"
     ]
    }
   ],
   "source": [
    "def calculate_tokens_received(amount_to_swap, exchange_rate, fee_percentage=0):\n",
    "    \"\"\"\n",
    "    Calculate the amount of tokens received after swapping on a decentralized exchange.\n",
    "    \n",
    "    Parameters:\n",
    "        amount_to_swap (float): The amount of tokens to be swapped.\n",
    "        exchange_rate (float): The exchange rate (number of tokens received per token swapped).\n",
    "        fee_percentage (float, optional): The fee percentage charged by the DEX. Defaults to 0.\n",
    "    \n",
    "    Returns:\n",
    "        float: The final amount of tokens received after the swap.\n",
    "    \"\"\"\n",
    "    # Calculate the total amount after fees\n",
    "    amount_after_fees = amount_to_swap * (1 - fee_percentage / 100)\n",
    "    \n",
    "    # Calculate the amount of tokens received after the swap\n",
    "    tokens_received = amount_after_fees * exchange_rate\n",
    "    \n",
    "    return tokens_received\n",
    "\n",
    "# Example usage:\n",
    "amount_to_swap = 100  # Amount of tokens to be swapped\n",
    "exchange_rate = 2     # Exchange rate (2 tokens received per token swapped)\n",
    "fee_percentage = 0.5  # Fee percentage (0.5%)\n",
    "\n",
    "tokens_received = calculate_tokens_received(amount_to_swap, exchange_rate, fee_percentage)\n",
    "print(f\"Tokens received after swap: {tokens_received}\")\n"
   ]
  },
  {
   "cell_type": "code",
   "execution_count": null,
   "id": "ea7c8b5c-4a6e-4e2f-afda-8dd500ea4aea",
   "metadata": {},
   "outputs": [],
   "source": [
    "import requests\n",
    "\n",
    "def get_token_balance(wallet_address, token_symbol):\n",
    "    api_key = '1WTU3YH38D7DXY35UEM13AGDAAPJHVQ276'  ## Example of an API Etherscan API key\n",
    "    api_url = f'https://api.blockchainexplorer.com/defi/balance/{wallet_address}/{token_symbol}'\n",
    "    \n",
    "    try:\n",
    "        response = requests.get(api_url, headers={'Authorization': f'Bearer {api_key}'})\n",
    "        response.raise_for_status()\n",
    "        balance = response.json()['balance']\n",
    "        return balance\n",
    "    except requests.exceptions.RequestException as e:\n",
    "        print(f\"Error: {e}\")\n",
    "        return None\n",
    "\n",
    "def main():\n",
    "    wallet_address = input(\"Enter your wallet address: \")\n",
    "    token_symbol = input(\"Enter the token symbol (e.g., ETH, DAI): \")\n",
    "\n",
    "    balance = get_token_balance(wallet_address, token_symbol)\n",
    "    if balance is not None:\n",
    "        print(f\"Balance of {token_symbol} in wallet {wallet_address}: {balance}\")\n",
    "\n",
    "if __name__ == \"__main__\":\n",
    "    main()\n"
   ]
  },
  {
   "cell_type": "code",
   "execution_count": null,
   "id": "962dd19b-e59a-4091-9943-2e70398a18d5",
   "metadata": {},
   "outputs": [],
   "source": []
  }
 ],
 "metadata": {
  "kernelspec": {
   "display_name": "Python 3 (ipykernel)",
   "language": "python",
   "name": "python3"
  },
  "language_info": {
   "codemirror_mode": {
    "name": "ipython",
    "version": 3
   },
   "file_extension": ".py",
   "mimetype": "text/x-python",
   "name": "python",
   "nbconvert_exporter": "python",
   "pygments_lexer": "ipython3",
   "version": "3.9.13"
  }
 },
 "nbformat": 4,
 "nbformat_minor": 5
}
