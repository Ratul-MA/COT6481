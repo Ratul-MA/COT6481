{
 "cells": [
  {
   "cell_type": "code",
   "execution_count": 6,
   "id": "df53875c",
   "metadata": {},
   "outputs": [
    {
     "ename": "NameError",
     "evalue": "name 'null' is not defined",
     "output_type": "error",
     "traceback": [
      "\u001b[0;31m---------------------------------------------------------------------------\u001b[0m",
      "\u001b[0;31mNameError\u001b[0m                                 Traceback (most recent call last)",
      "\u001b[0;32m/var/folders/1z/wqzdtk513hlg97skjcdrxh4c0000gn/T/ipykernel_7043/2720988342.py\u001b[0m in \u001b[0;36m<module>\u001b[0;34m\u001b[0m\n\u001b[1;32m      2\u001b[0m \u001b[0;32mfrom\u001b[0m \u001b[0mrasa_sdk\u001b[0m \u001b[0;32mimport\u001b[0m \u001b[0mAction\u001b[0m\u001b[0;34m,\u001b[0m \u001b[0mTracker\u001b[0m\u001b[0;34m\u001b[0m\u001b[0;34m\u001b[0m\u001b[0m\n\u001b[1;32m      3\u001b[0m \u001b[0;32mfrom\u001b[0m \u001b[0mrasa_sdk\u001b[0m\u001b[0;34m.\u001b[0m\u001b[0mexecutor\u001b[0m \u001b[0;32mimport\u001b[0m \u001b[0mCollectingDispatcher\u001b[0m\u001b[0;34m\u001b[0m\u001b[0;34m\u001b[0m\u001b[0m\n\u001b[0;32m----> 4\u001b[0;31m \u001b[0;32mfrom\u001b[0m \u001b[0mapi_clients\u001b[0m \u001b[0;32mimport\u001b[0m \u001b[0mget_account_info\u001b[0m\u001b[0;34m,\u001b[0m \u001b[0mget_stock_price\u001b[0m\u001b[0;34m\u001b[0m\u001b[0;34m\u001b[0m\u001b[0m\n\u001b[0m\u001b[1;32m      5\u001b[0m \u001b[0;34m\u001b[0m\u001b[0m\n\u001b[1;32m      6\u001b[0m \u001b[0;32mclass\u001b[0m \u001b[0mActionRetrieveAccountInfo\u001b[0m\u001b[0;34m(\u001b[0m\u001b[0mAction\u001b[0m\u001b[0;34m)\u001b[0m\u001b[0;34m:\u001b[0m\u001b[0;34m\u001b[0m\u001b[0;34m\u001b[0m\u001b[0m\n",
      "\u001b[0;32m~/Desktop/p2/api_clients.py\u001b[0m in \u001b[0;36m<module>\u001b[0;34m\u001b[0m\n\u001b[1;32m      3\u001b[0m   {\n\u001b[1;32m      4\u001b[0m    \u001b[0;34m\"cell_type\"\u001b[0m\u001b[0;34m:\u001b[0m \u001b[0;34m\"code\"\u001b[0m\u001b[0;34m,\u001b[0m\u001b[0;34m\u001b[0m\u001b[0;34m\u001b[0m\u001b[0m\n\u001b[0;32m----> 5\u001b[0;31m    \u001b[0;34m\"execution_count\"\u001b[0m\u001b[0;34m:\u001b[0m \u001b[0mnull\u001b[0m\u001b[0;34m,\u001b[0m\u001b[0;34m\u001b[0m\u001b[0;34m\u001b[0m\u001b[0m\n\u001b[0m\u001b[1;32m      6\u001b[0m    \u001b[0;34m\"id\"\u001b[0m\u001b[0;34m:\u001b[0m \u001b[0;34m\"e950ea31\"\u001b[0m\u001b[0;34m,\u001b[0m\u001b[0;34m\u001b[0m\u001b[0;34m\u001b[0m\u001b[0m\n\u001b[1;32m      7\u001b[0m    \u001b[0;34m\"metadata\"\u001b[0m\u001b[0;34m:\u001b[0m \u001b[0;34m{\u001b[0m\u001b[0;34m}\u001b[0m\u001b[0;34m,\u001b[0m\u001b[0;34m\u001b[0m\u001b[0;34m\u001b[0m\u001b[0m\n",
      "\u001b[0;31mNameError\u001b[0m: name 'null' is not defined"
     ]
    }
   ],
   "source": [
    "from typing import Any, Text, Dict, List\n",
    "from rasa_sdk import Action, Tracker\n",
    "from rasa_sdk.executor import CollectingDispatcher\n",
    "from api_clients import get_account_info, get_stock_price\n",
    "\n",
    "class ActionRetrieveAccountInfo(Action):\n",
    "    def name(self) -> Text:\n",
    "        return \"action_retrieve_account_info\"\n",
    "\n",
    "    def run(self, dispatcher: CollectingDispatcher,\n",
    "            tracker: Tracker,\n",
    "            domain: Dict[Text, Any]) -> List[Dict[Text, Any]]:\n",
    "\n",
    "        access_token = tracker.get_slot(\"plaid_access_token\")\n",
    "        accounts_response = get_account_info(access_token)\n",
    "        accounts = accounts_response.get('accounts', [])\n",
    "        \n",
    "        if accounts:\n",
    "            for account in accounts:\n",
    "                account_name = account.get('name', 'Unknown Account')\n",
    "                account_balance = account.get('balances', {}).get('current', 0)\n",
    "                dispatcher.utter_message(f\"{account_name}: ${account_balance}\")\n",
    "        else:\n",
    "            dispatcher.utter_message(\"Unable to retrieve account information.\")\n",
    "\n",
    "        return []\n",
    "\n",
    "class ActionRetrieveStockPrice(Action):\n",
    "    def name(self) -> Text:\n",
    "        return \"action_retrieve_stock_price\"\n",
    "\n",
    "    def run(self, dispatcher: CollectingDispatcher,\n",
    "            tracker: Tracker,\n",
    "            domain: Dict[Text, Any]) -> List[Dict[Text, Any]]:\n",
    "\n",
    "        symbol = tracker.get_slot(\"stock_symbol\")\n",
    "        price = get_stock_price(symbol)\n",
    "\n",
    "        if price:\n",
    "            dispatcher.utter_message(f\"{symbol} stock price: ${price}\")\n",
    "        else:\n",
    "            dispatcher.utter_message(f\"Unable to retrieve stock price for {symbol}.\")\n",
    "\n",
    "        return []\n",
    "\n",
    "class ActionFallback(Action):\n",
    "    def name(self) -> Text:\n",
    "        return \"action_default_fallback\"\n",
    "\n",
    "    def run(self, dispatcher: CollectingDispatcher,\n",
    "            tracker: Tracker,\n",
    "            domain: Dict[Text, Any]) -> List[Dict[Text, Any]]:\n",
    "\n",
    "        dispatcher.utter_message(\"I'm sorry, I didn't understand that.\")\n",
    "        return []\n"
   ]
  },
  {
   "cell_type": "code",
   "execution_count": null,
   "id": "b94958d4",
   "metadata": {},
   "outputs": [
    {
     "name": "stdout",
     "output_type": "stream",
     "text": [
      "Requirement already satisfied: plaid-python in /Users/mukitalam/opt/anaconda3/lib/python3.9/site-packages (18.4.0)\r\n",
      "Requirement already satisfied: urllib3>=1.25.3 in /Users/mukitalam/opt/anaconda3/lib/python3.9/site-packages (from plaid-python) (1.26.11)\r\n",
      "Requirement already satisfied: python-dateutil in /Users/mukitalam/opt/anaconda3/lib/python3.9/site-packages (from plaid-python) (2.8.2)\r\n",
      "Requirement already satisfied: nulltype in /Users/mukitalam/opt/anaconda3/lib/python3.9/site-packages (from plaid-python) (2.3.1)\r\n",
      "Requirement already satisfied: six>=1.5 in /Users/mukitalam/opt/anaconda3/lib/python3.9/site-packages (from python-dateutil->plaid-python) (1.16.0)\r\n"
     ]
    }
   ],
   "source": [
    "pip install plaid-python\n"
   ]
  },
  {
   "cell_type": "code",
   "execution_count": 1,
   "id": "be2f82a6",
   "metadata": {},
   "outputs": [
    {
     "ename": "SyntaxError",
     "evalue": "invalid syntax (335549835.py, line 1)",
     "output_type": "error",
     "traceback": [
      "\u001b[0;36m  File \u001b[0;32m\"/var/folders/1z/wqzdtk513hlg97skjcdrxh4c0000gn/T/ipykernel_9906/335549835.py\"\u001b[0;36m, line \u001b[0;32m1\u001b[0m\n\u001b[0;31m    rasa train nlu\u001b[0m\n\u001b[0m         ^\u001b[0m\n\u001b[0;31mSyntaxError\u001b[0m\u001b[0;31m:\u001b[0m invalid syntax\n"
     ]
    }
   ],
   "source": [
    "\n",
    "\n"
   ]
  },
  {
   "cell_type": "code",
   "execution_count": 2,
   "id": "1e8129b0",
   "metadata": {},
   "outputs": [
    {
     "ename": "SyntaxError",
     "evalue": "invalid syntax (304090008.py, line 1)",
     "output_type": "error",
     "traceback": [
      "\u001b[0;36m  File \u001b[0;32m\"/var/folders/1z/wqzdtk513hlg97skjcdrxh4c0000gn/T/ipykernel_9906/304090008.py\"\u001b[0;36m, line \u001b[0;32m1\u001b[0m\n\u001b[0;31m    rasa train\u001b[0m\n\u001b[0m         ^\u001b[0m\n\u001b[0;31mSyntaxError\u001b[0m\u001b[0;31m:\u001b[0m invalid syntax\n"
     ]
    }
   ],
   "source": [
    "rasa train \n"
   ]
  },
  {
   "cell_type": "code",
   "execution_count": 3,
   "id": "ee813c8f",
   "metadata": {},
   "outputs": [
    {
     "ename": "SyntaxError",
     "evalue": "invalid syntax (3789723922.py, line 1)",
     "output_type": "error",
     "traceback": [
      "\u001b[0;36m  File \u001b[0;32m\"/var/folders/1z/wqzdtk513hlg97skjcdrxh4c0000gn/T/ipykernel_9906/3789723922.py\"\u001b[0;36m, line \u001b[0;32m1\u001b[0m\n\u001b[0;31m    rasa train nlu\u001b[0m\n\u001b[0m         ^\u001b[0m\n\u001b[0;31mSyntaxError\u001b[0m\u001b[0;31m:\u001b[0m invalid syntax\n"
     ]
    }
   ],
   "source": [
    "rasa train nlu"
   ]
  },
  {
   "cell_type": "code",
   "execution_count": 4,
   "id": "053bacf2",
   "metadata": {},
   "outputs": [
    {
     "ename": "SyntaxError",
     "evalue": "invalid syntax (3730460460.py, line 1)",
     "output_type": "error",
     "traceback": [
      "\u001b[0;36m  File \u001b[0;32m\"/var/folders/1z/wqzdtk513hlg97skjcdrxh4c0000gn/T/ipykernel_9906/3730460460.py\"\u001b[0;36m, line \u001b[0;32m1\u001b[0m\n\u001b[0;31m    rasa shell\u001b[0m\n\u001b[0m         ^\u001b[0m\n\u001b[0;31mSyntaxError\u001b[0m\u001b[0;31m:\u001b[0m invalid syntax\n"
     ]
    }
   ],
   "source": [
    "rasa shell\n"
   ]
  },
  {
   "cell_type": "code",
   "execution_count": 5,
   "id": "fc021ace",
   "metadata": {},
   "outputs": [
    {
     "ename": "SyntaxError",
     "evalue": "invalid syntax (1744915100.py, line 1)",
     "output_type": "error",
     "traceback": [
      "\u001b[0;36m  File \u001b[0;32m\"/var/folders/1z/wqzdtk513hlg97skjcdrxh4c0000gn/T/ipykernel_9906/1744915100.py\"\u001b[0;36m, line \u001b[0;32m1\u001b[0m\n\u001b[0;31m    rasa activate\u001b[0m\n\u001b[0m         ^\u001b[0m\n\u001b[0;31mSyntaxError\u001b[0m\u001b[0;31m:\u001b[0m invalid syntax\n"
     ]
    }
   ],
   "source": [
    "rasa activate\n"
   ]
  },
  {
   "cell_type": "code",
   "execution_count": 6,
   "id": "6fcfa25f",
   "metadata": {},
   "outputs": [
    {
     "ename": "SyntaxError",
     "evalue": "invalid syntax (2207484118.py, line 1)",
     "output_type": "error",
     "traceback": [
      "\u001b[0;36m  File \u001b[0;32m\"/var/folders/1z/wqzdtk513hlg97skjcdrxh4c0000gn/T/ipykernel_9906/2207484118.py\"\u001b[0;36m, line \u001b[0;32m1\u001b[0m\n\u001b[0;31m    rasa train\u001b[0m\n\u001b[0m         ^\u001b[0m\n\u001b[0;31mSyntaxError\u001b[0m\u001b[0;31m:\u001b[0m invalid syntax\n"
     ]
    }
   ],
   "source": [
    " rasa train"
   ]
  },
  {
   "cell_type": "code",
   "execution_count": null,
   "id": "7a4fe0df",
   "metadata": {},
   "outputs": [],
   "source": []
  }
 ],
 "metadata": {
  "kernelspec": {
   "display_name": "Python 3 (ipykernel)",
   "language": "python",
   "name": "python3"
  },
  "language_info": {
   "codemirror_mode": {
    "name": "ipython",
    "version": 3
   },
   "file_extension": ".py",
   "mimetype": "text/x-python",
   "name": "python",
   "nbconvert_exporter": "python",
   "pygments_lexer": "ipython3",
   "version": "3.9.13"
  }
 },
 "nbformat": 4,
 "nbformat_minor": 5
}
